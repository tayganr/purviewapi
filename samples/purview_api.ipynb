{
 "metadata": {
  "language_info": {
   "codemirror_mode": {
    "name": "ipython",
    "version": 3
   },
   "file_extension": ".py",
   "mimetype": "text/x-python",
   "name": "python",
   "nbconvert_exporter": "python",
   "pygments_lexer": "ipython3",
   "version": "3.9.1-final"
  },
  "orig_nbformat": 2,
  "kernelspec": {
   "name": "python391jvsc74a57bd084ba2c6bc7b4d2f438fcc8af86b72648be8f0a08f2bb91d98ff62e4a166230df",
   "display_name": "Python 3.9.1 64-bit ('env')"
  },
  "metadata": {
   "interpreter": {
    "hash": "31f2aee4e71d21fbe5cf8b01ff0e069b9275f58929596ceb00d14d90e3e16cd6"
   }
  }
 },
 "nbformat": 4,
 "nbformat_minor": 2,
 "cells": [
  {
   "source": [
    "# Azure Purview REST API\n",
    "Last Updated: 2021-04-22"
   ],
   "cell_type": "markdown",
   "metadata": {}
  },
  {
   "source": [
    "## Request an Access Token"
   ],
   "cell_type": "markdown",
   "metadata": {}
  },
  {
   "cell_type": "code",
   "execution_count": null,
   "metadata": {},
   "outputs": [],
   "source": [
    "# Install Dependencies\n",
    "%pip install --upgrade requests"
   ]
  },
  {
   "cell_type": "code",
   "execution_count": null,
   "metadata": {},
   "outputs": [],
   "source": [
    "# Set Variables\n",
    "AZURE_CLIENT_ID = \"YOUR_CLIENT_ID\"\n",
    "AZURE_TENANT_ID = \"YOUR_TENANT_ID\"\n",
    "AZURE_CLIENT_SECRET = \"YOUR_CLIENT_SECRET\""
   ]
  },
  {
   "source": [
    "# Prepare Request\n",
    "data = {\n",
    "    'grant_type': 'client_credentials',\n",
    "    'client_id': AZURE_CLIENT_ID,\n",
    "    'client_secret': AZURE_CLIENT_SECRET,\n",
    "    'resource': 'https://purview.azure.net',\n",
    "}\n",
    "url = 'https://login.microsoftonline.com/{0}/oauth2/token'.format(AZURE_TENANT_ID)"
   ],
   "cell_type": "code",
   "metadata": {},
   "execution_count": null,
   "outputs": []
  },
  {
   "cell_type": "code",
   "execution_count": null,
   "metadata": {},
   "outputs": [],
   "source": [
    "# Get Access Token\n",
    "import requests\n",
    "request = requests.post(url, data=data)\n",
    "response = request.json()\n",
    "access_token = response['access_token']\n",
    "print(access_token)"
   ]
  },
  {
   "source": [
    "## 1. Get Data (Azure Purview API)"
   ],
   "cell_type": "markdown",
   "metadata": {}
  },
  {
   "cell_type": "code",
   "execution_count": null,
   "metadata": {},
   "outputs": [],
   "source": [
    "# Set (additional) Variables\n",
    "ATLAS_ENDPOINT = \"https://YOUR_PURVIEW_ACCOUNT.catalog.purview.azure.com\""
   ]
  },
  {
   "cell_type": "code",
   "execution_count": null,
   "metadata": {},
   "outputs": [],
   "source": [
    "# Prepare Request\n",
    "url = '{0}/api/atlas/v2/glossary'.format(ATLAS_ENDPOINT)\n",
    "headers = {'Authorization': 'Bearer {0}'.format(access_token)}"
   ]
  },
  {
   "cell_type": "code",
   "execution_count": null,
   "metadata": {},
   "outputs": [],
   "source": [
    "# Get Data\n",
    "import json\n",
    "request = requests.get(url, headers=headers)\n",
    "response = request.json()\n",
    "print(json.dumps(response, indent=4))"
   ]
  },
  {
   "source": [
    "## 2. Create a custom type (classification)"
   ],
   "cell_type": "markdown",
   "metadata": {}
  },
  {
   "cell_type": "code",
   "execution_count": null,
   "metadata": {},
   "outputs": [],
   "source": [
    "# Prepare Request\n",
    "url = '{0}/api/atlas/v2/types/typedefs'.format(ATLAS_ENDPOINT)\n",
    "headers = {\n",
    "    'Authorization': 'Bearer {0}'.format(access_token),\n",
    "    'Content-Type': 'application/json'\n",
    "}\n",
    "data = {\n",
    "    \"classificationDefs\": [{\n",
    "        \"category\": \"CLASSIFICATION\",\n",
    "        \"description\": \"This is a custom classification.\",\n",
    "        \"name\": \"TAYGAN.CUSTOM.CLASSIFICATION\"\n",
    "    }]\n",
    "}\n",
    "\n",
    "# Create Type\n",
    "request = requests.post(url, headers=headers, json=data)\n",
    "response = request.json()\n",
    "print(json.dumps(response, indent=4))"
   ]
  },
  {
   "source": [
    "## 3. Delete a custom type (classification)"
   ],
   "cell_type": "markdown",
   "metadata": {}
  },
  {
   "cell_type": "code",
   "execution_count": null,
   "metadata": {},
   "outputs": [],
   "source": [
    "# Prepare Request\n",
    "classification_name = 'TAYGAN.CUSTOM.CLASSIFICATION'\n",
    "url = '{0}/api/atlas/v2/types/typedef/name/{1}'.format(ATLAS_ENDPOINT, classification_name)\n",
    "headers = {'Authorization': 'Bearer {0}'.format(access_token)}\n",
    "\n",
    "# Delete Type\n",
    "request = requests.delete(url, headers=headers)\n",
    "print(request.status_code)"
   ]
  },
  {
   "source": [
    "## 4. Get an entity"
   ],
   "cell_type": "markdown",
   "metadata": {}
  },
  {
   "cell_type": "code",
   "execution_count": null,
   "metadata": {},
   "outputs": [],
   "source": [
    "# Prepare Request\n",
    "guid = '384e62bd-23cd-49c4-b155-63f6f6f60000'\n",
    "url = '{0}/api/atlas/v2/entity/guid/{1}'.format(ATLAS_ENDPOINT, guid)\n",
    "headers = {'Authorization': 'Bearer {0}'.format(access_token)}\n",
    "\n",
    "# Get Entity\n",
    "request = requests.get(url, headers=headers)\n",
    "response = request.json()\n",
    "print(json.dumps(response, indent=4))"
   ]
  },
  {
   "source": [
    "## 5. Create an entity"
   ],
   "cell_type": "markdown",
   "metadata": {}
  },
  {
   "cell_type": "code",
   "execution_count": null,
   "metadata": {},
   "outputs": [],
   "source": [
    "# Prepare Request\n",
    "url = '{0}/api/atlas/v2/entity'.format(ATLAS_ENDPOINT)\n",
    "headers = {\n",
    "    'Authorization': 'Bearer {0}'.format(access_token),\n",
    "    'Content-Type': 'application/json'\n",
    "}\n",
    "data = {\n",
    "    \"entity\": {\n",
    "        \"typeName\": \"azure_sql_table\",\n",
    "        \"attributes\": {\n",
    "            \"qualifiedName\": \"mssql://sqlsvr8951.database.windows.net/sqldb8951/SalesLT/TayganDemo\",\n",
    "            \"name\": \"TayganDemo\",\n",
    "            \"description\": \"This is a custom entity.\"\n",
    "        }\n",
    "    }\n",
    "}\n",
    "\n",
    "# Create Type\n",
    "request = requests.post(url, headers=headers, json=data)\n",
    "response = request.json()\n",
    "print(json.dumps(response, indent=4))"
   ]
  },
  {
   "source": [
    "## 6. Delete an entity"
   ],
   "cell_type": "markdown",
   "metadata": {}
  },
  {
   "cell_type": "code",
   "execution_count": null,
   "metadata": {},
   "outputs": [],
   "source": [
    "# Prepare Request\n",
    "guid = '668d8d87-054d-4e02-8a3b-69f6f6f60000'\n",
    "url = '{0}/api/atlas/v2/entity/guid/{1}'.format(ATLAS_ENDPOINT, guid)\n",
    "headers = {'Authorization': 'Bearer {0}'.format(access_token)}\n",
    "\n",
    "# Delete Type\n",
    "request = requests.delete(url, headers=headers)\n",
    "print(request.status_code)"
   ]
  },
  {
   "source": [
    "## 7. Get a relationship"
   ],
   "cell_type": "markdown",
   "metadata": {}
  },
  {
   "cell_type": "code",
   "execution_count": null,
   "metadata": {},
   "outputs": [],
   "source": [
    "# Prepare Request\n",
    "guid = '86e9c889-5fd4-4f44-b086-9fa9e974f9d0'\n",
    "url = '{0}/api/atlas/v2/relationship/guid/{1}'.format(ATLAS_ENDPOINT, guid)\n",
    "headers = {'Authorization': 'Bearer {0}'.format(access_token)}\n",
    "\n",
    "# Get Entity\n",
    "request = requests.get(url, headers=headers)\n",
    "response = request.json()\n",
    "print(json.dumps(response, indent=4))"
   ]
  },
  {
   "source": [
    "## 8. Create a relationship (custom lineage)"
   ],
   "cell_type": "markdown",
   "metadata": {}
  },
  {
   "cell_type": "code",
   "execution_count": null,
   "metadata": {},
   "outputs": [],
   "source": [
    "# Prepare Request\n",
    "url = '{0}/api/atlas/v2/relationship'.format(ATLAS_ENDPOINT)\n",
    "headers = {\n",
    "    'Authorization': 'Bearer {0}'.format(access_token),\n",
    "    'Content-Type': 'application/json'\n",
    "}\n",
    "data = {\n",
    "    \"typeName\":\"process_dataset_outputs\",\n",
    "    \"end1\":{\n",
    "        \"guid\":\"8cf4916b-a0a6-4c21-9efe-1e6c43fe886c\",\n",
    "        \"typeName\":\"adf_copy_activity\",\n",
    "        \"uniqueAttributes\":{\n",
    "        \"qualifiedName\":\"/subscriptions/2c334b6c-e556-40ac-a4c0-c0d1d2e08ca0/resourceGroups/purviewlab/providers/Microsoft.DataFactory/factories/adf8951/pipelines/CopyPipeline_jn6/activities/Copy_jn6\"\n",
    "        }\n",
    "    },\n",
    "    \"end2\":{\n",
    "        \"guid\":\"7ccc6d67-7a15-42a6-8fd8-39f6f6f60000\",\n",
    "        \"typeName\":\"azure_sql_table\",\n",
    "        \"uniqueAttributes\":{\n",
    "        \"qualifiedName\":\"mssql://sqlsvr8951.database.windows.net/sqldb8951/Taygan/TwitterOne\"\n",
    "        }\n",
    "    }\n",
    "}\n",
    "\n",
    "# Create Type\n",
    "request = requests.post(url, headers=headers, json=data)\n",
    "response = request.json()\n",
    "print(json.dumps(response, indent=4))"
   ]
  },
  {
   "source": [
    "## 9. Delete a relationship"
   ],
   "cell_type": "markdown",
   "metadata": {}
  },
  {
   "cell_type": "code",
   "execution_count": null,
   "metadata": {},
   "outputs": [],
   "source": [
    "# Prepare Request\n",
    "guid = 'dab534c8-ace7-49be-95a1-def4e394c74a'\n",
    "url = '{0}/api/atlas/v2/relationship/guid/{1}'.format(ATLAS_ENDPOINT, guid)\n",
    "headers = {'Authorization': 'Bearer {0}'.format(access_token)}\n",
    "\n",
    "# Delete Type\n",
    "request = requests.delete(url, headers=headers)\n",
    "print(request.status_code)"
   ]
  }
 ]
}